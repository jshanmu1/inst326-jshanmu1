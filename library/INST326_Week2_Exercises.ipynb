{
 "cells": [
  {
   "cell_type": "markdown",
   "id": "997c09e6",
   "metadata": {
    "id": "997c09e6"
   },
   "source": [
    "# INST326 — Week 2 Exercises (Library Management Project) — **With Solutions**\n",
    "\n",
    "**Scope:** conditionals, loops, basic lists. **No functions** (functions begin in Week 3). Also avoid Week 3+ topics (dictionaries, list comprehensions, files, exceptions, classes)."
   ]
  },
  {
   "cell_type": "markdown",
   "id": "139a53d8",
   "metadata": {
    "id": "139a53d8"
   },
   "source": [
    "\n",
    "### Python skills needed\n",
    "- Variables, numeric & string basics; `len()`\n",
    "- Comparisons & logical operators: `==`, `!=`, `<`, `>`, `<=`, `>=`, `and`, `or`, `not`\n",
    "- **Conditionals:** `if`, `elif`, `else`\n",
    "- **Loops:** `for`, `while`\n",
    "- **Lists:** create, index, (positive) slice, `append`, `insert`, `remove`, `pop`, `sort`, `reverse`, `len`\n",
    "- Avoid: functions, dictionaries/sets/tuples, list comprehensions, file I/O, exceptions, classes/objects, external libraries\n"
   ]
  },
  {
   "cell_type": "markdown",
   "id": "31b14345",
   "metadata": {
    "id": "31b14345"
   },
   "source": [
    "\n",
    "### Reusable starter data\n",
    "```python\n",
    "titles = [\"Python 101\", \"Data Wrangling\", \"AI Basics\", \"Networks\", \"UX Design\"]\n",
    "authors = [\"Ng\", \"Lee\", \"Patel\", \"Garcia\", \"Kim\"]\n",
    "available = [True, True, False, True, False]  # parallel to titles\n",
    "member_names = [\"Ava\", \"Ben\", \"Cam\", \"Dev\", \"Eli\"]\n",
    "loan_counts = [2, 0, 3, 1, 4]\n",
    "```\n"
   ]
  },
  {
   "cell_type": "markdown",
   "id": "dfb52010",
   "metadata": {
    "id": "dfb52010"
   },
   "source": [
    "#### 1) Check availability (if/else). Using the lists above, print `\"Available\"` if the first book is available, otherwise print `\"Checked out\"`."
   ]
  },
  {
   "cell_type": "markdown",
   "id": "daf31887",
   "metadata": {
    "id": "daf31887"
   },
   "source": [
    "**Solution:**"
   ]
  },
  {
   "cell_type": "code",
   "execution_count": null,
   "id": "d1a14e5a",
   "metadata": {
    "id": "d1a14e5a"
   },
   "outputs": [],
   "source": [
    "titles = [\"Python 101\", \"Data Wrangling\", \"AI Basics\", \"Networks\", \"UX Design\"]\n",
    "available = [True, True, False, True, False]\n",
    "# your code here\n",
    "if available[0]:\n",
    "    print(\"Available\")\n",
    "else:\n",
    "    print(\"Checked Out\")"
   ]
  },
  {
   "cell_type": "markdown",
   "id": "18035f75",
   "metadata": {
    "id": "18035f75"
   },
   "source": [
    "#### 2) Toggle a book's availability. Flip the availability of the third book (index 2) and print the updated `available` list."
   ]
  },
  {
   "cell_type": "markdown",
   "id": "c2b9036a",
   "metadata": {
    "id": "c2b9036a"
   },
   "source": [
    "**Solution:**"
   ]
  },
  {
   "cell_type": "code",
   "execution_count": null,
   "id": "88c73771",
   "metadata": {
    "id": "88c73771"
   },
   "outputs": [],
   "source": [
    "# your code here\n",
    "titles = [\"Python 101\", \"Data Wrangling\", \"AI Basics\", \"Networks\", \"UX Design\"]\n",
    "available = [True, True, False, True, False]  \n",
    "available[2] = True\n",
    "print(available)"
   ]
  },
  {
   "cell_type": "markdown",
   "id": "208b37f5",
   "metadata": {
    "id": "208b37f5"
   },
   "source": [
    "#### 3) Basic list add. Append a new title `\"Human-Centered AI\"` to `titles` and print the length of `titles`."
   ]
  },
  {
   "cell_type": "markdown",
   "id": "e98a1e1e",
   "metadata": {
    "id": "e98a1e1e"
   },
   "source": [
    "**Solution:**"
   ]
  },
  {
   "cell_type": "code",
   "execution_count": null,
   "id": "7af1686e",
   "metadata": {
    "id": "7af1686e"
   },
   "outputs": [],
   "source": [
    "# your code here\n",
    "titles = [\"Python 101\", \"Data Wrangling\", \"AI Basics\", \"Networks\", \"UX Design\"]\n",
    "titles.append(\"Human-Centered AI\")\n",
    "print(len(titles))"
   ]
  },
  {
   "cell_type": "markdown",
   "id": "9795bc54",
   "metadata": {
    "id": "9795bc54"
   },
   "source": [
    "#### 4) Parallel insert. Insert a new author `\"Russell\"` at the same position as the new title `\"Human-Centered AI\"`. Keep lists aligned."
   ]
  },
  {
   "cell_type": "markdown",
   "id": "6f6f6b7a",
   "metadata": {
    "id": "6f6f6b7a"
   },
   "source": [
    "**Solution:**"
   ]
  },
  {
   "cell_type": "code",
   "execution_count": null,
   "id": "04c62401",
   "metadata": {
    "id": "04c62401"
   },
   "outputs": [],
   "source": [
    "# your code here\n",
    "titles = [\"Python 101\", \"Data Wrangling\", \"AI Basics\", \"Networks\", \"UX Design\",\"Human-Centered AI\"]\n",
    "authors = [\"Ng\", \"Lee\", \"Patel\", \"Garcia\", \"Kim\"]\n",
    "authors.append(\"Russell\")"
   ]
  },
  {
   "cell_type": "markdown",
   "id": "159dc832",
   "metadata": {
    "id": "159dc832"
   },
   "source": [
    "#### 5) Simple search (if `in`). Ask: does `\"AI Basics\"` exist in `titles`? If yes, print its index; else print `-1`."
   ]
  },
  {
   "cell_type": "markdown",
   "id": "eb4bc60f",
   "metadata": {
    "id": "eb4bc60f"
   },
   "source": [
    "**Solution:**"
   ]
  },
  {
   "cell_type": "code",
   "execution_count": null,
   "id": "5ca2409b",
   "metadata": {
    "id": "5ca2409b"
   },
   "outputs": [],
   "source": [
    "# your code here\n",
    "titles = [\"Python 101\", \"Data Wrangling\", \"AI Basics\", \"Networks\", \"UX Design\",\"Human-Centered AI\"]\n",
    "if \"AI Basics\" in titles:\n",
    "    print(titles.index(\"AI Basics\"))\n",
    "else:\n",
    "    print(-1)\n"
   ]
  },
  {
   "cell_type": "markdown",
   "id": "ce052e38",
   "metadata": {
    "id": "ce052e38"
   },
   "source": [
    "#### 6) Count checkouts via loop. Given `available`, count how many books are currently checked out (`False`)."
   ]
  },
  {
   "cell_type": "markdown",
   "id": "e63438f5",
   "metadata": {
    "id": "e63438f5"
   },
   "source": [
    "**Solution:**"
   ]
  },
  {
   "cell_type": "code",
   "execution_count": null,
   "id": "77551e68",
   "metadata": {
    "id": "77551e68"
   },
   "outputs": [],
   "source": [
    "# your code here\n",
    "available = [True, True, False, True, False]  \n",
    "count =0\n",
    "for status in available:\n",
    "    if not status:\n",
    "        count+=1\n",
    "print(count)"
   ]
  },
  {
   "cell_type": "markdown",
   "id": "b51e0196",
   "metadata": {
    "id": "b51e0196"
   },
   "source": [
    "#### 7) First available book. Find and print the first title that is available using a `for` loop and `if`. If none are available, print `\"No books available\"`."
   ]
  },
  {
   "cell_type": "markdown",
   "id": "3fe6d53c",
   "metadata": {
    "id": "3fe6d53c"
   },
   "source": [
    "**Solution:**"
   ]
  },
  {
   "cell_type": "code",
   "execution_count": null,
   "id": "4d2ab519",
   "metadata": {
    "id": "4d2ab519"
   },
   "outputs": [],
   "source": [
    "# your code here\n",
    "titles = [\"Python 101\", \"Data Wrangling\", \"AI Basics\", \"Networks\", \"UX Design\",\"Human-Centered AI\"]\n",
    "available = [True, True, False, True, False,True]\n",
    "found = False\n",
    "for i in range(len(available)):\n",
    "    if(available[i]):\n",
    "        print(titles[i])\n",
    "        found = True\n",
    "        break\n",
    "if not found:\n",
    "    print(\"No books available\")"
   ]
  },
  {
   "cell_type": "markdown",
   "id": "6e0ef486",
   "metadata": {
    "id": "6e0ef486"
   },
   "source": [
    "#### 8) Basic sorting. Sort `titles` alphabetically in place. Then reverse them in place. Print after each step."
   ]
  },
  {
   "cell_type": "markdown",
   "id": "bf7bceb6",
   "metadata": {
    "id": "bf7bceb6"
   },
   "source": [
    "**Solution:**"
   ]
  },
  {
   "cell_type": "code",
   "execution_count": null,
   "id": "78fc4886",
   "metadata": {
    "id": "78fc4886"
   },
   "outputs": [],
   "source": [
    "# your code here\n",
    "titles = [\"Python 101\", \"Data Wrangling\", \"AI Basics\", \"Networks\", \"UX Design\",\"Human-Centered AI\"]\n",
    "titles.sort\n",
    "print(titles)"
   ]
  },
  {
   "cell_type": "markdown",
   "id": "0d2d85e5",
   "metadata": {
    "id": "0d2d85e5"
   },
   "source": [
    "#### 9) Remove a lost book. Remove the title `\"Networks\"` from `titles`. (Assume it exists.)"
   ]
  },
  {
   "cell_type": "markdown",
   "id": "95eeb451",
   "metadata": {
    "id": "95eeb451"
   },
   "source": [
    "**Solution:**"
   ]
  },
  {
   "cell_type": "code",
   "execution_count": null,
   "id": "46b7211d",
   "metadata": {
    "id": "46b7211d"
   },
   "outputs": [],
   "source": [
    "# your code here\n",
    "titles = [\"Python 101\", \"Data Wrangling\", \"AI Basics\", \"Networks\", \"UX Design\",\"Human-Centered AI\"]\n",
    "titles.remove(\"Networks\")\n",
    "print(titles)"
   ]
  },
  {
   "cell_type": "markdown",
   "id": "2c3f8a8c",
   "metadata": {
    "id": "2c3f8a8c"
   },
   "source": [
    "#### 10) Index-safe remove. Try to remove `\"Quantum Design\"` from `titles`. If not present, print a message (no error)."
   ]
  },
  {
   "cell_type": "markdown",
   "id": "d8df1c01",
   "metadata": {
    "id": "d8df1c01"
   },
   "source": [
    "**Solution:**"
   ]
  },
  {
   "cell_type": "code",
   "execution_count": null,
   "id": "3faccdf1",
   "metadata": {
    "id": "3faccdf1"
   },
   "outputs": [],
   "source": [
    "# your code here\n",
    "titles = [\"Python 101\", \"Data Wrangling\", \"AI Basics\", \"Networks\", \"UX Design\",\"Human-Centered AI\"]\n",
    "titles.remove(\"Quantum Design\")\n",
    "if \"Quantum Design\" not in titles:\n",
    "    print(\"Quantum Design is not in this list\")"
   ]
  },
  {
   "cell_type": "markdown",
   "id": "c0d737b7",
   "metadata": {
    "id": "c0d737b7"
   },
   "source": [
    "#### 11) Member eligibility. Given `loan_counts`, print `\"OK to borrow\"` if `loan_counts[1] < 3`, else `\"Limit reached\"`."
   ]
  },
  {
   "cell_type": "markdown",
   "id": "e5313104",
   "metadata": {
    "id": "e5313104"
   },
   "source": [
    "**Solution:**"
   ]
  },
  {
   "cell_type": "code",
   "execution_count": null,
   "id": "34358792",
   "metadata": {
    "id": "34358792"
   },
   "outputs": [],
   "source": [
    "# your code here\n",
    "loan_counts = [2, 0, 3, 1, 4]\n",
    "if loan_counts[1] < 3:\n",
    "    print(\"Ok to borrow\")\n",
    "else:\n",
    "   print(\"Limit reached\")"
   ]
  },
  {
   "cell_type": "markdown",
   "id": "9b2dcf30",
   "metadata": {
    "id": "9b2dcf30"
   },
   "source": [
    "#### 12) Simple policy check (if/elif/else). For `days_overdue`, print: `\"No fine\"` if `<= 0`; `\"Small fine\"` if `1-5`; `\"Large fine\"` if `> 5`."
   ]
  },
  {
   "cell_type": "markdown",
   "id": "f98be289",
   "metadata": {
    "id": "f98be289"
   },
   "source": [
    "**Solution:**"
   ]
  },
  {
   "cell_type": "code",
   "execution_count": null,
   "id": "773e4fca",
   "metadata": {
    "id": "773e4fca"
   },
   "outputs": [],
   "source": [
    "# your code here\n",
    "days_overdue = int(input(\"How many days overdue: \"))\n",
    "if days_overdue <=0:\n",
    "    print(\"No fine\")\n",
    "elif days_overdue > 1 and days_overdue < 5:\n",
    "    print(\"Small fine\")\n",
    "else:\n",
    "    print(\"Large fine\")"
   ]
  },
  {
   "cell_type": "markdown",
   "id": "e2b45428",
   "metadata": {
    "id": "e2b45428"
   },
   "source": [
    "#### 13) Build an availability report. Print lines like `\"Python 101: Available\"` or `\"AI Basics: Checked out\"` for all books."
   ]
  },
  {
   "cell_type": "markdown",
   "id": "ff9e1646",
   "metadata": {
    "id": "ff9e1646"
   },
   "source": [
    "**Solution:**"
   ]
  },
  {
   "cell_type": "code",
   "execution_count": null,
   "id": "4050f8a0",
   "metadata": {
    "id": "4050f8a0"
   },
   "outputs": [],
   "source": [
    "# your code here\n",
    "titles = [\"Python 101\", \"Data Wrangling\", \"AI Basics\", \"Networks\", \"UX Design\",\"Human-Centered AI\"]\n",
    "available = [True, True, False, True, False,True]\n",
    "for i in range(len(available)):\n",
    "    if available[i] == True:\n",
    "        print(f\"{titles[i]}: Available\")\n",
    "    elif available[i] == False:\n",
    "        print(f\"{titles[i]}: Checked out\")\n"
   ]
  },
  {
   "cell_type": "markdown",
   "id": "018ee21b",
   "metadata": {
    "id": "018ee21b"
   },
   "source": [
    "#### 14) Find longest title (via loop; no `max` key)."
   ]
  },
  {
   "cell_type": "markdown",
   "id": "bd15164f",
   "metadata": {
    "id": "bd15164f"
   },
   "source": [
    "**Solution:**"
   ]
  },
  {
   "cell_type": "code",
   "execution_count": null,
   "id": "c88627b5",
   "metadata": {
    "id": "c88627b5"
   },
   "outputs": [],
   "source": [
    "# your code here\n",
    "titles = [\"Python 101\", \"Data Wrangling\", \"AI Basics\", \"Networks\", \"UX Design\",\"Human-Centered AI\"]\n",
    "long = \"\"\n",
    "for book in titles:\n",
    "    if len(book) >len(long):\n",
    "        long = book\n",
    "print(long)"
   ]
  },
  {
   "cell_type": "markdown",
   "id": "fe908d84",
   "metadata": {
    "id": "fe908d84"
   },
   "source": [
    "#### 15) Basic slice (positive indices only). Print the first three titles using slicing."
   ]
  },
  {
   "cell_type": "markdown",
   "id": "926f66cb",
   "metadata": {
    "id": "926f66cb"
   },
   "source": [
    "**Solution:**"
   ]
  },
  {
   "cell_type": "code",
   "execution_count": null,
   "id": "5fbb1f65",
   "metadata": {
    "id": "5fbb1f65"
   },
   "outputs": [],
   "source": [
    "# your code here\n",
    "titles = [\"Python 101\", \"Data Wrangling\", \"AI Basics\", \"Networks\", \"UX Design\",\"Human-Centered AI\"]\n",
    "subset = titles[0:2]\n",
    "print(subset)"
   ]
  },
  {
   "cell_type": "markdown",
   "id": "cb8c0648",
   "metadata": {
    "id": "cb8c0648"
   },
   "source": [
    "#### 16) Move a title to the end. Pop the title at index `1` and append it to the end."
   ]
  },
  {
   "cell_type": "markdown",
   "id": "bb98f4a7",
   "metadata": {
    "id": "bb98f4a7"
   },
   "source": [
    "**Solution:**"
   ]
  },
  {
   "cell_type": "code",
   "execution_count": null,
   "id": "6eed930c",
   "metadata": {
    "id": "6eed930c"
   },
   "outputs": [],
   "source": [
    "# your code here\n",
    "titles = [\"Python 101\", \"Data Wrangling\", \"AI Basics\", \"Networks\", \"UX Design\",\"Human-Centered AI\"]\n",
    "popped = titles[1]\n",
    "titles.append(popped)\n",
    "print(titles)"
   ]
  },
  {
   "cell_type": "markdown",
   "id": "6db0c132",
   "metadata": {
    "id": "6db0c132"
   },
   "source": [
    "#### 17) Matching by position. Given `titles` and `authors` as parallel lists, print `\"<title> by <author>\"` for each index."
   ]
  },
  {
   "cell_type": "markdown",
   "id": "fd1c7cbc",
   "metadata": {
    "id": "fd1c7cbc"
   },
   "source": [
    "**Solution:**"
   ]
  },
  {
   "cell_type": "code",
   "execution_count": null,
   "id": "4430f5ae",
   "metadata": {
    "id": "4430f5ae"
   },
   "outputs": [],
   "source": [
    "# your code here\n",
    "titles = [\"Python 101\", \"Data Wrangling\", \"AI Basics\", \"Networks\", \"UX Design\",\"Human-Centered AI\"]\n",
    "authors = [\"Ng\", \"Lee\", \"Patel\", \"Garcia\", \"Kim\",\"Russell\"]\n",
    "for i in range(len(titles)):\n",
    "    print(f\"{titles[i]} by {authors[i]}\")"
   ]
  },
  {
   "cell_type": "markdown",
   "id": "15d48b6e",
   "metadata": {
    "id": "15d48b6e"
   },
   "source": [
    "#### 18) Any available? Loop & conditional to set `any_available` to `True` if any book is available; else `False`. Print the result."
   ]
  },
  {
   "cell_type": "markdown",
   "id": "8201c548",
   "metadata": {
    "id": "8201c548"
   },
   "source": [
    "**Solution:**"
   ]
  },
  {
   "cell_type": "code",
   "execution_count": null,
   "id": "1e846be6",
   "metadata": {
    "id": "1e846be6"
   },
   "outputs": [],
   "source": [
    "# your code here\n",
    "available = [True, True, False, True, False,True]\n",
    "any_available = False\n",
    "for i in range(len(available)):\n",
    "    if available[i] == True:\n",
    "        any_available = True\n",
    "        break\n",
    "    if available[i] == False:\n",
    "        any_available = False\n",
    "print(any_available)\n"
   ]
  },
  {
   "cell_type": "markdown",
   "id": "7311d68f",
   "metadata": {
    "id": "7311d68f"
   },
   "source": [
    "#### 19) All available? Loop & conditional to set `all_available` to `True` only if every book is available. Print the result."
   ]
  },
  {
   "cell_type": "markdown",
   "id": "78b8868f",
   "metadata": {
    "id": "78b8868f"
   },
   "source": [
    "**Solution:**"
   ]
  },
  {
   "cell_type": "code",
   "execution_count": null,
   "id": "d7ffd560",
   "metadata": {
    "id": "d7ffd560"
   },
   "outputs": [],
   "source": [
    "# your code here\n",
    "available = [True, True, False, True, False,True]\n",
    "any_available = True\n",
    "for status in available:\n",
    "    if not status:\n",
    "        any_available = False\n",
    "        break\n",
    "print(any_available)"
   ]
  },
  {
   "cell_type": "markdown",
   "id": "3aa517cd",
   "metadata": {
    "id": "3aa517cd"
   },
   "source": [
    "#### 20) Basic filter with loop. Create `checked_out_titles` containing only titles that are checked out (`available[i] == False`)."
   ]
  },
  {
   "cell_type": "markdown",
   "id": "4ba3eb42",
   "metadata": {
    "id": "4ba3eb42"
   },
   "source": [
    "**Solution:**"
   ]
  },
  {
   "cell_type": "code",
   "execution_count": null,
   "id": "d2d247d4",
   "metadata": {
    "id": "d2d247d4"
   },
   "outputs": [],
   "source": [
    "# your code here\n",
    "titles = [\"Python 101\", \"Data Wrangling\", \"AI Basics\", \"Networks\", \"UX Design\",\"Human-Centered AI\"]\n",
    "available = [True, True, False, True, False,True]\n",
    "checked_out_titles = []\n",
    "for i in range(len(titles)):\n",
    "    if available[i] == False:\n",
    "        checked_out_titles.append(titles[i])\n",
    "print(checked_out_titles)\n"
   ]
  },
  {
   "cell_type": "markdown",
   "id": "e2e37448",
   "metadata": {
    "id": "e2e37448"
   },
   "source": [
    "#### 21) Cap loans at 3. Increase `loan_counts[i]` by 1 for each member whose count is `< 3`."
   ]
  },
  {
   "cell_type": "markdown",
   "id": "302ee213",
   "metadata": {
    "id": "302ee213"
   },
   "source": [
    "**Solution:**"
   ]
  },
  {
   "cell_type": "code",
   "execution_count": null,
   "id": "4c2a7b3b",
   "metadata": {
    "id": "4c2a7b3b"
   },
   "outputs": [],
   "source": [
    "# your code here\n",
    "member_names = [\"Ava\", \"Ben\", \"Cam\", \"Dev\", \"Eli\"]\n",
    "loan_counts = [2, 0, 3, 1, 4]\n",
    "for i in range(len(member_names)):\n",
    "    if loan_counts[i] < 3:\n",
    "        loan_counts[i] = loan_counts[i] + 1\n",
    "    else:\n",
    "        print(f\"{member_names[i]}: No loans\")\n",
    "\n",
    "print(loan_counts)\n"
   ]
  },
  {
   "cell_type": "markdown",
   "id": "cb062f92",
   "metadata": {
    "id": "cb062f92"
   },
   "source": [
    "#### 22) Simple string parsing. Given `call_number = \"QA76.73.P98\"`, print just the prefix before the first digit (here: `\"QA\"`)."
   ]
  },
  {
   "cell_type": "markdown",
   "id": "75be728d",
   "metadata": {
    "id": "75be728d"
   },
   "source": [
    "**Solution:**"
   ]
  },
  {
   "cell_type": "code",
   "execution_count": null,
   "id": "1c664316",
   "metadata": {
    "id": "1c664316"
   },
   "outputs": [],
   "source": [
    "# your code here\n",
    "call_number = \"QA76.73.P98\"\n",
    "prefix = \"\"\n",
    "for char in call_number:\n",
    "    if char.isalpha():\n",
    "        prefix += char\n",
    "    else:\n",
    "        break\n",
    "print(prefix)"
   ]
  },
  {
   "cell_type": "markdown",
   "id": "99ddcab7",
   "metadata": {
    "id": "99ddcab7"
   },
   "source": [
    "#### 23) Enforce title casing (manual). From `raw_title = \"python for DATA\"`, construct `fixed` so the first char is uppercase and the rest lowercase."
   ]
  },
  {
   "cell_type": "markdown",
   "id": "70da54de",
   "metadata": {
    "id": "70da54de"
   },
   "source": [
    "**Solution:**"
   ]
  },
  {
   "cell_type": "code",
   "execution_count": null,
   "id": "9238f669",
   "metadata": {
    "id": "9238f669"
   },
   "outputs": [],
   "source": [
    "# your code here\n",
    "raw_title = \"python for DATA\"\n",
    "title_case = raw_title.lower().capitalize()\n",
    "print(title_case)"
   ]
  },
  {
   "cell_type": "markdown",
   "id": "b440d551",
   "metadata": {
    "id": "b440d551"
   },
   "source": [
    "#### 24) Eligibility mapping without functions. For each value in `loan_counts`, print `True` if it is `< 3` else `False` (use a loop)."
   ]
  },
  {
   "cell_type": "markdown",
   "id": "a635228c",
   "metadata": {
    "id": "a635228c"
   },
   "source": [
    "**Solution:**"
   ]
  },
  {
   "cell_type": "code",
   "execution_count": null,
   "id": "77c48815",
   "metadata": {
    "id": "77c48815"
   },
   "outputs": [],
   "source": [
    "# your code here\n",
    "loan_counts = [2, 0, 3, 1, 4]\n",
    "for i in range(len(loan_counts)):\n",
    "    if loan_counts[i] < 3:\n",
    "        print(True)\n",
    "    else:\n",
    "        print(False)"
   ]
  },
  {
   "cell_type": "markdown",
   "id": "c0537d3a",
   "metadata": {
    "id": "c0537d3a"
   },
   "source": [
    "#### 25) First checked-out index (no function). Given `available`, print the index of the first `False`, or `-1` if none."
   ]
  },
  {
   "cell_type": "markdown",
   "id": "f002bdee",
   "metadata": {
    "id": "f002bdee"
   },
   "source": [
    "**Solution:**"
   ]
  },
  {
   "cell_type": "code",
   "execution_count": null,
   "id": "5f0ded08",
   "metadata": {
    "id": "5f0ded08"
   },
   "outputs": [],
   "source": [
    "# your code here\n",
    "available = [True, True, False, True, False,True]\n",
    "first_checked_out = -1\n",
    "for i in range(len(available)):\n",
    "    if not available[i]:\n",
    "        first_checked_out = i\n",
    "        break\n",
    "print(first_checked_out)"
   ]
  },
  {
   "cell_type": "markdown",
   "id": "75d54c43",
   "metadata": {
    "id": "75d54c43"
   },
   "source": [
    "#### 26) Merge two shelves. Given `shelf_a` & `shelf_b`, create `merged` that alternates items from each until one runs out, then appends the rest."
   ]
  },
  {
   "cell_type": "markdown",
   "id": "1f70aa08",
   "metadata": {
    "id": "1f70aa08"
   },
   "source": [
    "**Solution:**"
   ]
  },
  {
   "cell_type": "code",
   "execution_count": null,
   "id": "54044473",
   "metadata": {
    "id": "54044473"
   },
   "outputs": [],
   "source": [
    "# your code here\n",
    "shelf_a = [\"Book A\", \"Book B\", \"Book C\"]\n",
    "shelf_b = [\"Book X\", \"Book Y\", \"Book Z\", \"Book W\"]\n",
    "merged = []\n",
    "\n",
    "i = 0\n",
    "j = 0\n",
    "\n",
    "while i < len(shelf_a) and j < len(shelf_b):\n",
    "    merged.append(shelf_a[i])\n",
    "    merged.append(shelf_b[j])\n",
    "    i += 1\n",
    "    j += 1\n",
    "\n",
    "merged.extend(shelf_a[i:])\n",
    "merged.extend(shelf_b[j:])\n",
    "\n",
    "print(merged)"
   ]
  },
  {
   "cell_type": "markdown",
   "id": "e657b727",
   "metadata": {
    "id": "e657b727"
   },
   "source": [
    "#### 27) Sanity check parallel lists. Verify `len(titles) == len(authors) == len(available)`. If not, print a warning."
   ]
  },
  {
   "cell_type": "markdown",
   "id": "ac6c179e",
   "metadata": {
    "id": "ac6c179e"
   },
   "source": [
    "**Solution:**"
   ]
  },
  {
   "cell_type": "code",
   "execution_count": null,
   "id": "a8268a81",
   "metadata": {
    "id": "a8268a81"
   },
   "outputs": [],
   "source": [
    "# your code here\n",
    "titles = [\"Python 101\", \"Data Wrangling\", \"AI Basics\", \"Networks\", \"UX Design\",\"Human-Centered AI\"]\n",
    "available = [True, True, False, True, False,True]\n",
    "authors = [\"Ng\", \"Lee\", \"Patel\", \"Garcia\", \"Kim\",\"Russell\"]\n",
    "if not len(titles) == len(authors) == len(available):\n",
    "    print(\"Warning the titles,authors, and availability do not equal each other\")"
   ]
  },
  {
   "cell_type": "markdown",
   "id": "f34b1e61",
   "metadata": {
    "id": "f34b1e61"
   },
   "source": [
    "#### 28) Most active borrower. Using `loan_counts`, find the index of the largest count (via loop; no `max`), then print the corresponding name."
   ]
  },
  {
   "cell_type": "markdown",
   "id": "903d37c5",
   "metadata": {
    "id": "903d37c5"
   },
   "source": [
    "**Solution:**"
   ]
  },
  {
   "cell_type": "code",
   "execution_count": null,
   "id": "bd48fcfe",
   "metadata": {
    "id": "bd48fcfe"
   },
   "outputs": [],
   "source": [
    "# your code here\n",
    "loan_counts = [2, 0, 3, 1, 4]\n",
    "member_names = [\"Ava\", \"Ben\", \"Cam\", \"Dev\", \"Eli\"]\n",
    "largest_count =0\n",
    "person = \"\"\n",
    "for i in range(len(loan_counts)):\n",
    "    if loan_counts[i] > largest_count:\n",
    "        largest_count = loan_counts[i]\n",
    "        person = member_names[i]\n",
    "print(person)\n"
   ]
  },
  {
   "cell_type": "markdown",
   "id": "500b9968",
   "metadata": {
    "id": "500b9968"
   },
   "source": [
    "#### 29) Even/odd shelf labeling. For `positions = [0,1,2,3,4,5]`, print `\"Even shelf\"` for even numbers, `\"Odd shelf\"` for odd."
   ]
  },
  {
   "cell_type": "markdown",
   "id": "331074f2",
   "metadata": {
    "id": "331074f2"
   },
   "source": [
    "**Solution:**"
   ]
  },
  {
   "cell_type": "code",
   "execution_count": null,
   "id": "c4a57dfa",
   "metadata": {
    "id": "c4a57dfa"
   },
   "outputs": [],
   "source": [
    "# your code here\n",
    "positions = [0,1,2,3,4,5]\n",
    "for i in range(len(positions)):\n",
    "    if positions[i] % 2 == 0:\n",
    "        print(\"Even Shelf\")\n",
    "    else:\n",
    "        print(\"Odd Shelf\")"
   ]
  },
  {
   "cell_type": "markdown",
   "id": "4d60019e",
   "metadata": {
    "id": "4d60019e"
   },
   "source": [
    "#### 30) Basic menu loop (while + if/elif/else, no functions). Simulate choices: print titles, then available-only, then quit."
   ]
  },
  {
   "cell_type": "markdown",
   "id": "d68fab27",
   "metadata": {
    "id": "d68fab27"
   },
   "source": [
    "**Solution:**"
   ]
  },
  {
   "cell_type": "code",
   "execution_count": null,
   "id": "809c49fe",
   "metadata": {
    "id": "809c49fe"
   },
   "outputs": [],
   "source": [
    "# your code here\n",
    "titles = [\"Python 101\", \"Data Wrangling\", \"AI Basics\", \"Networks\", \"UX Design\", \"Human-Centered AI\"]\n",
    "available = [True, True, False, True, False, True]\n",
    "\n",
    "running = True\n",
    "while running:\n",
    "    print(\"\\n--- Library Menu ---\")\n",
    "    print(\"1. Display all titles\")\n",
    "    print(\"2. Display available titles\")\n",
    "    print(\"3. Quit\")\n",
    "\n",
    "    choice = input(\"Enter your choice: \")\n",
    "\n",
    "    if choice == '1':\n",
    "        print(\"\\n--- All Titles ---\")\n",
    "        for title in titles:\n",
    "            print(title)\n",
    "    elif choice == '2':\n",
    "        print(\"\\n--- Available Titles ---\")\n",
    "        found_available = False\n",
    "        for i in range(len(titles)):\n",
    "            if available[i]:\n",
    "                print(titles[i])\n",
    "                found_available = True\n",
    "        if not found_available:\n",
    "            print(\"No books are currently available.\")\n",
    "    elif choice == '3':\n",
    "        print(\"\\nExiting library menu. Goodbye!\")\n",
    "        running = False\n",
    "    else:\n",
    "        print(\"\\nInvalid choice. Please enter 1, 2, or 3.\")\n",
    "\n"
   ]
  }
 ],
 "metadata": {
  "colab": {
   "provenance": [
    {
     "file_id": "19btC0pkn6MrlqutFtM60AGiJXmVNiEe0",
     "timestamp": 1757902129523
    }
   ]
  },
  "kernelspec": {
   "display_name": "Python 3",
   "name": "python3"
  },
  "language_info": {
   "name": "python"
  }
 },
 "nbformat": 4,
 "nbformat_minor": 5
}
