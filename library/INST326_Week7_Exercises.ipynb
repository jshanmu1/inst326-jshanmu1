{
 "cells": [
  {
   "cell_type": "markdown",
   "id": "7454c8fb",
   "metadata": {},
   "source": [
    "# INST326 — Week 7 Exercises: Error Handling & Testing (Library Management)\n",
    "\n",
    "**Focus (Week 7 only):** exception handling (`try` / `except` / `else` / `finally`), raising exceptions, defining simple custom exceptions, and **basic** unit testing with `unittest` (no fixtures beyond `setUp`/`tearDown`).\n",
    "\n",
    "**Out of scope:** Anything introduced in Week 8 or later (e.g., inheritance, abstract classes, polymorphism, advanced testing/CI, design patterns).\n",
    "\n",
    "> Context: Use a simple Library Management domain—books, members, catalog, and loans—to complete the tasks.\n"
   ]
  },
  {
   "cell_type": "markdown",
   "id": "084e7d18",
   "metadata": {},
   "source": [
    "### Starter Helpers (Optional)\n",
    "\n",
    "You may use or modify the minimal scaffolding below in your solutions. It intentionally avoids Week 8+ concepts.\n"
   ]
  },
  {
   "cell_type": "code",
   "execution_count": null,
   "id": "8126f00a",
   "metadata": {},
   "outputs": [],
   "source": [
    "# Minimal, Week-7-safe scaffolding (no inheritance/ABCs).\n",
    "from __future__ import annotations\n",
    "from dataclasses import dataclass\n",
    "from datetime import datetime, timedelta\n",
    "from typing import Optional, Dict, List\n",
    "import json\n",
    "\n",
    "class LibraryError(Exception):\n",
    "    \"\"\"Base library-related error for Week 7.\"\"\"\n",
    "\n",
    "class DuplicateBookError(LibraryError):\n",
    "    pass\n",
    "\n",
    "class OverdueLoanError(LibraryError):\n",
    "    pass\n",
    "\n",
    "@dataclass\n",
    "class Book:\n",
    "    isbn: str\n",
    "    title: str\n",
    "    copies: int = 1\n",
    "\n",
    "@dataclass\n",
    "class Member:\n",
    "    member_id: str\n",
    "    email: str\n",
    "\n",
    "@dataclass\n",
    "class Loan:\n",
    "    isbn: str\n",
    "    member_id: str\n",
    "    due_date: datetime\n",
    "    returned: bool = False\n",
    "\n",
    "    def check_overdue(self) -> bool:\n",
    "        if datetime.now() > self.due_date and not self.returned:\n",
    "            return True\n",
    "        return False\n",
    "\n",
    "class Catalog:\n",
    "    def __init__(self):\n",
    "        self._books: Dict[str, Book] = {}\n",
    "\n",
    "    def add_book(self, book: Book) -> None:\n",
    "        if book.isbn in self._books:\n",
    "            raise DuplicateBookError(f\"ISBN already exists: {book.isbn}\")\n",
    "        if book.copies < 0:\n",
    "            raise ValueError(\"copies must be non-negative\")\n",
    "        self._books[book.isbn] = book\n",
    "\n",
    "    def get_book(self, isbn: str) -> Optional[Book]:\n",
    "        return self._books.get(isbn)\n",
    "\n",
    "    def load_from_json(self, path: str) -> int:\n",
    "        # Intentionally minimal; implement robust handling in exercises.\n",
    "        with open(path, \"r\", encoding=\"utf-8\") as f:\n",
    "            data = json.load(f)\n",
    "        count = 0\n",
    "        for item in data:\n",
    "            self.add_book(Book(isbn=item[\"isbn\"], title=item[\"title\"], copies=item.get(\"copies\", 1)))\n",
    "            count += 1\n",
    "        return count\n"
   ]
  },
  {
   "cell_type": "markdown",
   "id": "0e59ce2c",
   "metadata": {},
   "source": [
    "## 1) Validate ISBN with exceptions\n",
    "\n",
    "Write a function `validate_isbn(isbn: str) -> str` that:\n",
    "- Strips hyphens/spaces\n",
    "- Verifies it is 10 or 13 digits (numeric only after stripping)\n",
    "- Raises `ValueError` with a helpful message when invalid\n",
    "Return the normalized ISBN string when valid."
   ]
  },
  {
   "cell_type": "code",
   "execution_count": null,
   "id": "e28526e0",
   "metadata": {},
   "outputs": [],
   "source": [
    "# Your code here\n",
    "def validate_isbn(isbn: str) -> str:\n",
    "    normalized_isbn = isbn.replace('-', '').replace(' ', '')\n",
    "    length = len(normalized_isbn)\n",
    "    if length not in (10, 13):\n",
    "        raise ValueError(\n",
    "            f\"Invalid ISBN length: Must be 10 or 13 digits after stripping. Found length {length} (Normalized: '{normalized_isbn}').\"\n",
    "        )\n",
    "    if not normalized_isbn.isdigit():\n",
    "        is_potential_isbn10_with_x = (\n",
    "            length == 10 and normalized_isbn[-1].upper() == 'X'\n",
    "        )\n",
    "        \n",
    "        error_message = f\"Invalid ISBN format: Must contain only digits (0-9) after stripping. Found '{normalized_isbn}'.\"\n",
    "        \n",
    "        if is_potential_isbn10_with_x:\n",
    "             error_message += \"\\n(Note: This ISBN looks like a valid ISBN-10 but contains the check digit 'X', which violates the 'numeric only' requirement.)\"\n",
    "\n",
    "        raise ValueError(error_message)    \n",
    "    return normalized_isbn\n",
    "\n",
    "# Example:\n",
    "# print(validate_isbn(\"978-1-4028-9462-6\"))  # -> '9781402894626'"
   ]
  },
  {
   "cell_type": "markdown",
   "id": "3a60f20e",
   "metadata": {},
   "source": [
    "## 2) Safe integer input for copies\n",
    "\n",
    "Implement `parse_copies(text: str) -> int` that parses a positive integer for number of copies.\n",
    "Use `try/except` to catch `ValueError`, and raise your own `ValueError` with a user-friendly message."
   ]
  },
  {
   "cell_type": "code",
   "execution_count": null,
   "id": "24045f0b",
   "metadata": {},
   "outputs": [],
   "source": [
    "# Your code here\n",
    "def parse_copies(text: str) -> int:\n",
    "    if not text:\n",
    "        raise ValueError(\"Input cannot be empty. Please enter a number for the copies.\")\n",
    "\n",
    "    try:\n",
    "        copies = int(text)\n",
    "    except ValueError:\n",
    "        raise ValueError(f\"Invalid input: '{text}' is not a valid whole number.\")\n",
    "\n",
    "    if copies <= 0:\n",
    "        raise ValueError(\n",
    "            f\"Invalid number of copies: Must be a positive integer greater than zero. Found {copies}.\"\n",
    "        )\n",
    "\n",
    "    return copies\n",
    "    ...\n",
    "\n",
    "# Examples:\n",
    "# parse_copies(\"3\") -> 3\n",
    "# parse_copies(\"three\") -> ValueError('copies must be a positive integer')"
   ]
  },
  {
   "cell_type": "markdown",
   "id": "26d03ecb",
   "metadata": {},
   "source": [
    "## 3) Custom exception: OverdueLoanError\n",
    "\n",
    "Extend `Loan.check_overdue()` to **raise** `OverdueLoanError` if the book is overdue (instead of returning `True/False`). \n",
    "Catch this exception in a separate function `assert_not_overdue(loan: Loan)` that returns `True` when ok and `False` when overdue."
   ]
  },
  {
   "cell_type": "code",
   "execution_count": null,
   "id": "96214cdb",
   "metadata": {},
   "outputs": [],
   "source": [
    "# Your code here\n",
    "@dataclass\n",
    "class Loan:\n",
    "    isbn: str\n",
    "    member_id: str\n",
    "    due_date: datetime\n",
    "    returned: bool = False\n",
    "\n",
    "    def check_overdue(self) -> None:\n",
    "        \"\"\"Raise OverdueLoanError if the loan is overdue.\"\"\"\n",
    "        if datetime.now() > self.due_date and not self.returned:\n",
    "            raise OverdueLoanError(\n",
    "                f\"Loan for ISBN {self.isbn} (member {self.member_id}) is overdue.\"\n",
    "            )\n",
    "\n",
    "\n",
    "def assert_not_overdue(loan: Loan) -> bool:\n",
    "    try:\n",
    "        loan.check_overdue()\n",
    "        return True\n",
    "    except OverdueLoanError:\n",
    "        return False\n",
    "\n",
    "\n",
    "# Tip: modify Loan.check_overdue or wrap/extend without Week 8+ concepts."
   ]
  },
  {
   "cell_type": "markdown",
   "id": "a41b75c5",
   "metadata": {},
   "source": [
    "## 4) Robust date parsing\n",
    "\n",
    "Write `parse_date(text: str) -> datetime` that accepts `YYYY-MM-DD`. If parsing fails, raise `ValueError('invalid date: ...')`.\n",
    "Use `try/except` around `datetime.strptime`."
   ]
  },
  {
   "cell_type": "code",
   "execution_count": null,
   "id": "1ab49403",
   "metadata": {},
   "outputs": [],
   "source": [
    "# Your code here\n",
    "from datetime import datetime\n",
    "\n",
    "def parse_date(text: str) -> datetime:\n",
    "    try:\n",
    "        return datetime.strptime(text, \"%Y-%m-%d\")\n",
    "    except ValueError:\n",
    "        raise ValueError(f\"invalid date: {text}\")\n",
    "\n",
    "# Example:\n",
    "# parse_date(\"2025-10-27\")"
   ]
  },
  {
   "cell_type": "markdown",
   "id": "a81c5b3a",
   "metadata": {},
   "source": [
    "## 5) Late fee calculation with ZeroDivisionError guard\n",
    "\n",
    "Define `per_day_late_fee(total_fee: float, days_late: int) -> float` that computes `total_fee / days_late`.\n",
    "If `days_late` is 0, raise `ZeroDivisionError` with a clear message. Show a `try/except` usage example that prints a friendly message instead of crashing."
   ]
  },
  {
   "cell_type": "code",
   "execution_count": null,
   "id": "0b8d6b1d",
   "metadata": {},
   "outputs": [],
   "source": [
    "# Your code here\n",
    "def per_day_late_fee(total_fee: float, days_late: int) -> float:\n",
    "   if days_late == 0:\n",
    "        raise ZeroDivisionError(\"days_late cannot be zero when calculating late fee\")\n",
    "   return total_fee / days_late\n",
    "\n",
    "\n",
    "# try/except demo here\n",
    "try:\n",
    "    fee = per_day_late_fee(10.0, 0)\n",
    "    print(f\"Per-day late fee: ${fee:.2f}\")\n",
    "except ZeroDivisionError as e:\n",
    "    print(f\"⚠️ Error: {e}\")"
   ]
  },
  {
   "cell_type": "markdown",
   "id": "b9584d87",
   "metadata": {},
   "source": [
    "## 6) Always-close file with try/finally\n",
    "\n",
    "Implement `read_file_head(path: str, n: int=3) -> list[str]` that opens a UTF-8 text file and returns the first `n` lines (stripped).\n",
    "Use explicit `try/finally` to ensure closing (even though `with` is preferred) to practice `finally` behavior."
   ]
  },
  {
   "cell_type": "code",
   "execution_count": null,
   "id": "35f85080",
   "metadata": {},
   "outputs": [],
   "source": [
    "# Your code here\n",
    "def read_file_head(path: str, n: int=3) -> list[str]:\n",
    "    lines: list[str] = []\n",
    "    f = None\n",
    "    try:\n",
    "        f = open(path, \"r\", encoding=\"utf-8\")\n",
    "        for _ in range(n):\n",
    "            line = f.readline()\n",
    "            if not line:\n",
    "                break\n",
    "            lines.append(line.strip())\n",
    "    finally:\n",
    "        if f is not None:\n",
    "            f.close()\n",
    "    return lines"
   ]
  },
  {
   "cell_type": "markdown",
   "id": "5db39c1b",
   "metadata": {},
   "source": [
    "## 7) Safe JSON catalog loading\n",
    "\n",
    "Implement `safe_load_catalog(path: str, catalog: Catalog) -> int` that handles:\n",
    "- `FileNotFoundError` → return 0\n",
    "- `json.JSONDecodeError` → return 0\n",
    "- `DuplicateBookError` → skip duplicate and continue\n",
    "Return the number of **new** books added."
   ]
  },
  {
   "cell_type": "code",
   "execution_count": null,
   "id": "f2595e1c",
   "metadata": {},
   "outputs": [],
   "source": [
    "# Your code here\n",
    "import json\n",
    "\n",
    "def safe_load_catalog(path: str, catalog: Catalog) -> int:\n",
    "    try:\n",
    "        with open(path, \"r\", encoding=\"utf-8\") as f:\n",
    "            data = json.load(f)\n",
    "    except (FileNotFoundError, json.JSONDecodeError):\n",
    "        return 0\n",
    "\n",
    "    added = 0\n",
    "    for item in data:\n",
    "        try:\n",
    "            catalog.add_book(Book(\n",
    "                isbn=item[\"isbn\"],\n",
    "                title=item[\"title\"],\n",
    "                copies=item.get(\"copies\", 1)\n",
    "            ))\n",
    "            added += 1\n",
    "        except DuplicateBookError:\n",
    "            # Skip duplicate and continue loading\n",
    "            continue\n",
    "    return added"
   ]
  },
  {
   "cell_type": "markdown",
   "id": "a1158c83",
   "metadata": {},
   "source": [
    "## 8) Duplicate book detection\n",
    "\n",
    "Write `add_unique_book(catalog: Catalog, book: Book)` that raises `DuplicateBookError` if the ISBN is already present, else adds it.\n",
    "Demonstrate `try/except` around this call to log a brief message and continue."
   ]
  },
  {
   "cell_type": "code",
   "execution_count": null,
   "id": "e972f45f",
   "metadata": {},
   "outputs": [],
   "source": [
    "# Your code here\n",
    "def add_unique_book(catalog: Catalog, book: Book) -> None:\n",
    "    \"\"\"Add a book only if its ISBN is not already in the catalog.\"\"\"\n",
    "    if catalog.get_book(book.isbn) is not None:\n",
    "        raise DuplicateBookError(f\"Book with ISBN {book.isbn} already exists.\")\n",
    "    catalog.add_book(book)\n",
    "\n",
    "\n",
    "# --- Demo with try/except ---\n",
    "catalog = Catalog()\n",
    "\n",
    "books = [\n",
    "    Book(isbn=\"111\", title=\"Intro to Python\"),\n",
    "    Book(isbn=\"111\", title=\"Duplicate Python Book\"),\n",
    "    Book(isbn=\"222\", title=\"Data Science 101\"),\n",
    "]\n",
    "\n",
    "for book in books:\n",
    "    try:\n",
    "        add_unique_book(catalog, book)\n",
    "        print(f\"Added book: {book.title} (ISBN: {book.isbn})\")\n",
    "    except DuplicateBookError as e:\n",
    "        print(f\"⚠️ Could not add book: {e}\")"
   ]
  },
  {
   "cell_type": "markdown",
   "id": "aefba523",
   "metadata": {},
   "source": [
    "## 9) Timeout handling (simulated)\n",
    "\n",
    "Create `fetch_cover_image(isbn: str, timeout_s: float=0.1) -> bytes` that **simulates** a timeout by raising `TimeoutError` when `timeout_s` < 0.05.\n",
    "Write `get_cover_or_none(isbn)` that calls it in `try/except TimeoutError` and returns `None` on timeout."
   ]
  },
  {
   "cell_type": "code",
   "execution_count": null,
   "id": "4f18dd9e",
   "metadata": {},
   "outputs": [],
   "source": [
    "# Your code here\n",
    "def fetch_cover_image(isbn: str, timeout_s: float=0.1) -> bytes:\n",
    "    if timeout_s < 0.05:\n",
    "        raise TimeoutError(f\"Fetching cover for ISBN {isbn} timed out after {timeout_s}s.\")\n",
    "    return b\"FAKE_IMAGE_DATA\"\n",
    "\n",
    "def get_cover_or_none(isbn: str):\n",
    "    try:\n",
    "        return fetch_cover_image(isbn)\n",
    "    except TimeoutError as e:\n",
    "        print(f\"⚠️ Timeout while fetching cover: {e}\")\n",
    "        return None\n",
    "    ..."
   ]
  },
  {
   "cell_type": "markdown",
   "id": "888fcbc4",
   "metadata": {},
   "source": [
    "## 10) Sanitizing member IDs\n",
    "\n",
    "Implement `sanitize_member_id(value) -> str` that:\n",
    "- Raises `TypeError` if not `str`\n",
    "- Strips spaces, uppercases\n",
    "- Raises `ValueError` if final form is empty or contains non-alphanumeric chars"
   ]
  },
  {
   "cell_type": "code",
   "execution_count": null,
   "id": "b3c77162",
   "metadata": {},
   "outputs": [],
   "source": [
    "# Your code here\n",
    "def sanitize_member_id(value) -> str:\n",
    "    if not isinstance(value, str):\n",
    "        raise TypeError(\"member_id must be a string\")\n",
    "\n",
    "    cleaned = value.strip().upper()\n",
    "\n",
    "    if not cleaned:\n",
    "        raise ValueError(\"member_id cannot be empty after stripping spaces\")\n",
    "\n",
    "    if not cleaned.isalnum():\n",
    "        raise ValueError(\"member_id must contain only letters and digits\")\n",
    "\n",
    "    return cleaned"
   ]
  },
  {
   "cell_type": "markdown",
   "id": "4ed2dfd4",
   "metadata": {},
   "source": [
    "## 11) Convert asserts to exceptions\n",
    "\n",
    "Given legacy code that uses `assert copies >= 0`, replace it with explicit `if` + `raise ValueError('copies must be non-negative')` in a function `validate_copies(copies: int) -> int` that returns the validated value."
   ]
  },
  {
   "cell_type": "code",
   "execution_count": null,
   "id": "04b859e6",
   "metadata": {},
   "outputs": [],
   "source": [
    "# Your code here\n",
    "def validate_copies(copies: int) -> int:\n",
    "    if copies < 0:\n",
    "        raise ValueError(\"copies must be non-negative\")\n",
    "    return copies\n",
    "    ..."
   ]
  },
  {
   "cell_type": "markdown",
   "id": "dacbcae9",
   "metadata": {},
   "source": [
    "## 12) Basic unit tests for `validate_isbn`\n",
    "\n",
    "Create a `tests/`-style cell using `unittest` that verifies:\n",
    "- Valid 10- and 13-digit ISBNs pass\n",
    "- Bad inputs raise `ValueError`\n",
    "Do **not** import any third-party packages."
   ]
  },
  {
   "cell_type": "code",
   "execution_count": null,
   "id": "f5d2b24d",
   "metadata": {},
   "outputs": [],
   "source": [
    "import unittest\n",
    "\n",
    "def validate_isbn(isbn: str) -> str:\n",
    "    \"\"\"Validate that ISBN is a 10- or 13-digit numeric string (ignores dashes/spaces).\"\"\"\n",
    "    if not isinstance(isbn, str):\n",
    "        raise ValueError(\"ISBN must be a string\")\n",
    "\n",
    "    cleaned = isbn.replace(\"-\", \"\").replace(\" \", \"\")\n",
    "\n",
    "    if len(cleaned) == 10 and cleaned.isdigit():\n",
    "        return cleaned\n",
    "    elif len(cleaned) == 13 and cleaned.isdigit():\n",
    "        return cleaned\n",
    "    else:\n",
    "        raise ValueError(\"Invalid ISBN format or length\")\n",
    "\n",
    "\n",
    "class TestValidateISBN(unittest.TestCase):\n",
    "    def test_valid_10_and_13(self):\n",
    "        valid_isbns = [\n",
    "            \"0306406152\",        # valid 10-digit\n",
    "            \"9780306406157\",     # valid 13-digit\n",
    "            \"978-0-306-40615-7\", # valid with dashes\n",
    "            \"0 306 40615 2\"      # valid with spaces\n",
    "        ]\n",
    "        for isbn in valid_isbns:\n",
    "            with self.subTest(isbn=isbn):\n",
    "                result = validate_isbn(isbn)\n",
    "                self.assertTrue(len(result) in (10, 13))\n",
    "                self.assertTrue(result.isdigit())\n",
    "\n",
    "    def test_invalid_values(self):\n",
    "        invalid_isbns = [\n",
    "            \"123456789\",         # Too short\n",
    "            \"12345678901234\",    # Too long\n",
    "            \"ABCDEFGHIJ\",        # Non-numeric\n",
    "            \"978-1-4028-9462-X\", # Invalid character\n",
    "            \"\",                  # Empty string\n",
    "            1234567890           # Not a string\n",
    "        ]\n",
    "        for isbn in invalid_isbns:\n",
    "            with self.subTest(isbn=isbn):\n",
    "                with self.assertRaises(ValueError):\n",
    "                    validate_isbn(isbn)\n",
    "\n",
    "\n",
    "    if __name__ == '__main__':\n",
    "     unittest.main(argv=['-v'], exit=False)  # Uncomment to run in notebook\n"
   ]
  },
  {
   "cell_type": "markdown",
   "id": "30e112ad",
   "metadata": {},
   "source": [
    "## 13) Unit test with `assertRaises`\n",
    "\n",
    "Write a `unittest.TestCase` verifying that adding a duplicate ISBN to a `Catalog` raises `DuplicateBookError`.\n",
    "Use `setUp` to create a fresh `Catalog` and seed it with one book."
   ]
  },
  {
   "cell_type": "code",
   "execution_count": null,
   "id": "42ddf6d5",
   "metadata": {},
   "outputs": [],
   "source": [
    "# Your code here\n",
    "import unittest\n",
    "\n",
    "class TestCatalogDuplicates(unittest.TestCase):\n",
    "    def setUp(self):\n",
    "        self.catalog = Catalog()\n",
    "        self.book = Book(isbn=\"1234567890\", title=\"Test Book\")\n",
    "        self.catalog.add_book(self.book)\n",
    "    def test_duplicate_raises(self):\n",
    "         duplicate = Book(isbn=\"1234567890\", title=\"Another Test Book\")\n",
    "         with self.assertRaises(DuplicateBookError):\n",
    "            self.catalog.add_book(duplicate)\n",
    "\n",
    "    if __name__ == '__main__':\n",
    "     unittest.main(argv=['-v'], exit=False)"
   ]
  },
  {
   "cell_type": "markdown",
   "id": "f0274358",
   "metadata": {},
   "source": [
    "## 14) Subtests for multiple bad IDs (optional pattern)\n",
    "\n",
    "Using `unittest`, write a single test method that loops over a collection of **invalid** member IDs and, using `self.subTest`, asserts that `sanitize_member_id` raises `ValueError` for each."
   ]
  },
  {
   "cell_type": "code",
   "execution_count": null,
   "id": "99d7362d",
   "metadata": {},
   "outputs": [],
   "source": [
    "# Your code here\n",
    "import unittest\n",
    "\n",
    "class TestMemberIdSanitization(unittest.TestCase):\n",
    "    def test_bad_ids(self):\n",
    "        bad_values = [\"\", \"   \", \"abc!\", \"id with space\", \"###\"]\n",
    "        for value in bad_values:\n",
    "            with self.subTest(value=value):\n",
    "                with self.assertRaises(ValueError):\n",
    "                    sanitize_member_id(value)\n",
    "\n",
    "# if __name__ == '__main__':\n",
    "#     unittest.main(argv=['-v'], exit=False)"
   ]
  },
  {
   "cell_type": "markdown",
   "id": "180926cc",
   "metadata": {},
   "source": [
    "## 15) try/except/else logging\n",
    "\n",
    "Write `try_index_book(catalog: Catalog, book: Book) -> bool` that\n",
    "- Tries to `add_book`\n",
    "- On exception, returns `False`\n",
    "- Uses `else` to return `True` only when no exception occurred"
   ]
  },
  {
   "cell_type": "code",
   "execution_count": null,
   "id": "8d1e0f13",
   "metadata": {},
   "outputs": [],
   "source": [
    "# Your code here\n",
    "def try_index_book(catalog: Catalog, book: Book) -> bool:\n",
    "    try:\n",
    "        catalog.add_book(book)\n",
    "        return True\n",
    "    except DuplicateBookError:\n",
    "        return False"
   ]
  },
  {
   "cell_type": "markdown",
   "id": "25e5238b",
   "metadata": {},
   "source": [
    "## 16) Graceful KeyboardInterrupt\n",
    "\n",
    "Create `interactive_copies_prompt()` that repeatedly prompts the user for copies (use `input()`), converts using `parse_copies`, and prints the value.\n",
    "If the user hits `Ctrl+C`, catch `KeyboardInterrupt` and print `Bye!` before returning."
   ]
  },
  {
   "cell_type": "code",
   "execution_count": null,
   "id": "caf219c9",
   "metadata": {},
   "outputs": [],
   "source": [
    "# Your code here\n",
    "def interactive_copies_prompt():\n",
    "    try:\n",
    "        while True:\n",
    "            user_input = input(\"Enter number of copies (positive integer): \")\n",
    "            try:\n",
    "                copies = parse_copies(user_input)\n",
    "                print(f\"Valid number of copies entered: {copies}\")\n",
    "                return copies\n",
    "            except ValueError as e:\n",
    "                print(f\"⚠️ {e}. Please try again.\")\n",
    "    except KeyboardInterrupt:\n",
    "        print(\"\\nBye!\")\n",
    "\n",
    "# Note: Be mindful running this in notebooks; it's acceptable to provide the function without calling it."
   ]
  },
  {
   "cell_type": "markdown",
   "id": "ed4e4ad4",
   "metadata": {},
   "source": [
    "## 17) Catalog validator that accumulates errors\n",
    "\n",
    "Implement `validate_catalog_items(items: list[dict]) -> list[str]` that walks a list of book dicts and **collects** error messages rather than raising immediately.\n",
    "Return a list of error strings (empty if valid)."
   ]
  },
  {
   "cell_type": "code",
   "execution_count": null,
   "id": "6c7f249b",
   "metadata": {},
   "outputs": [],
   "source": [
    "# Your code here\n",
    "def validate_catalog_items(items):\n",
    "    for item in items:\n",
    "        isbn = item.get(\"isbn\", \"\")\n",
    "        try:\n",
    "            validate_isbn(isbn)\n",
    "        except ValueError as e:\n",
    "            print(f\"⚠️ Invalid ISBN '{isbn}': {e}\")"
   ]
  },
  {
   "cell_type": "markdown",
   "id": "c9775544",
   "metadata": {},
   "source": [
    "## 18) Replace broad except\n",
    "\n",
    "Refactor a function that currently uses a bare `except:` to instead catch **only** `ValueError` and `TypeError` and re-raise unknown exceptions. Provide a before/after example and explain why broad except is risky."
   ]
  },
  {
   "cell_type": "code",
   "execution_count": null,
   "id": "586894c3",
   "metadata": {},
   "outputs": [],
   "source": [
    "# Your code here\n",
    "def before_style(x):\n",
    "    try:\n",
    "        return int(x)\n",
    "    except:\n",
    "        return 0  # BAD: swallows everything\n",
    "\n",
    "def after_style(x):\n",
    "    try:\n",
    "        return int(x)\n",
    "    except (ValueError, TypeError):\n",
    "        return 0  \n",
    "    except Exception as e:\n",
    "        raise e\n",
    "\n",
    "# Add a short explanation in comments.\n",
    "# Broad except clauses (like in before_style) can hide unexpected errors and make debugging difficult.\n",
    "# The after_style function improves this by only catching specific exceptions (ValueError, TypeError)"
   ]
  },
  {
   "cell_type": "markdown",
   "id": "d5aceeb4",
   "metadata": {},
   "source": [
    "## 19) Exit codes on failure\n",
    "\n",
    "Write `main(argv)` that attempts to load a catalog JSON path from `argv[1]` using `safe_load_catalog`.\n",
    "- Return `0` on success, `2` on `FileNotFoundError`, `3` on `json.JSONDecodeError`, otherwise `1`.\n",
    "Use `sys.exit(main(sys.argv))` pattern in a protected `if __name__ == '__main__':` block (comment it out in notebook)."
   ]
  },
  {
   "cell_type": "code",
   "execution_count": null,
   "id": "f57b20a2",
   "metadata": {},
   "outputs": [],
   "source": [
    "# Your code here\n",
    "import sys\n",
    "\n",
    "def main(argv: list[str]) -> int:\n",
    "    if len(argv) < 2:\n",
    "        print(\"Usage: main <catalog.json>\")\n",
    "        return 1\n",
    "\n",
    "    path = argv[1]\n",
    "    try:\n",
    "        safe_load_catalog(path)\n",
    "        return 0\n",
    "    except FileNotFoundError:\n",
    "        return 2\n",
    "    except json.JSONDecodeError:\n",
    "        return 3\n",
    "    except Exception as e:\n",
    "        # re-raise could be considered, but returning 1 per instructions\n",
    "        return 1\n",
    "\n",
    "# if __name__ == '__main__':\n",
    "#     sys.exit(main(sys.argv))"
   ]
  },
  {
   "cell_type": "markdown",
   "id": "786482dd",
   "metadata": {},
   "source": [
    "## 20) End-to-end happy path test\n",
    "\n",
    "Using `unittest`, write a test that:\n",
    "- Builds a fresh `Catalog`\n",
    "- Adds a valid `Book`\n",
    "- Creates a `Loan` due tomorrow and asserts `assert_not_overdue` returns `True`\n",
    "This is a **basic** end-to-end happy path—no Week 8+ features."
   ]
  },
  {
   "cell_type": "code",
   "execution_count": null,
   "id": "069b0010",
   "metadata": {},
   "outputs": [],
   "source": [
    "# Your code here\n",
    "import unittest\n",
    "from datetime import datetime, timedelta\n",
    "\n",
    "class TestHappyPath(unittest.TestCase):\n",
    "    def test_happy_flow(self):\n",
    "        catalog = Catalog()\n",
    "        book = Book(title=\"The Great Gatsby\", author=\"F. Scott Fitzgerald\", copies=3)\n",
    "        catalog.add_book(book)\n",
    "        due_date = datetime.now() + timedelta(days=1)\n",
    "        loan = Loan(book, due_date)\n",
    "\n",
    "        self.assertTrue(loan.assert_not_overdue())\n",
    "\n",
    "# if __name__ == '__main__':\n",
    "#     unittest.main(argv=['-v'], exit=False)"
   ]
  },
  {
   "cell_type": "markdown",
   "id": "460f1605",
   "metadata": {},
   "source": [
    "## Python skills you'll need (Weeks 1–7)\n",
    "\n",
    "- **Core syntax & data types:** variables, strings, ints/floats, booleans\n",
    "- **Collections:** lists, dicts (basic use only)\n",
    "- **Control flow:** `if/elif/else`, `for` loops, `while` loops\n",
    "- **Functions & modules:** defining functions, parameters, returns, imports\n",
    "- **File I/O:** open/read/write text and JSON (basic)\n",
    "- **Classes & objects:** defining simple classes, `__init__`, instance methods, attributes\n",
    "- **Encapsulation basics:** private attributes (naming convention), validation via methods/properties\n",
    "- **Methods:** instance/class/static methods (as introduced in Week 6)\n",
    "- **Error handling:** `try` / `except` / `else` / `finally`, `raise`, custom exceptions (Week 7)\n",
    "- **Basic testing:** `unittest.TestCase`, `assertRaises`, `setUp`/`tearDown`, `subTest` (Week 7)\n",
    "- **Standard library familiarity:** `datetime`, `json`, `sys`, built-in exceptions\n"
   ]
  }
 ],
 "metadata": {
  "language_info": {
   "name": "python"
  }
 },
 "nbformat": 4,
 "nbformat_minor": 5
}
