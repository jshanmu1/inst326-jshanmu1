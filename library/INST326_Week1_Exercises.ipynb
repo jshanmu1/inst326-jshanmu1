{
 "cells": [
  {
   "cell_type": "markdown",
   "id": "87469d1d",
   "metadata": {
    "id": "87469d1d"
   },
   "source": [
    "# INST326 — Week 1 Exercises (Revised): Library Management Theme  \n",
    "*Generated on 2025-09-07*\n",
    "\n",
    "This revision **removes all conditionals and all lists** to align strictly with Week 1 topics.\n",
    "\n",
    "**Included topics**\n",
    "- Variables and basic data types (`str`, `int`, `float`, `bool`)\n",
    "- Basic arithmetic and expressions\n",
    "- `print()` and formatted strings (f-strings, `.format`)\n",
    "- `input()` for user input\n",
    "- String methods: `.strip()`, `.lower()`, `.upper()`, `.replace()`, `.find()`, `.rfind()`, slicing\n",
    "- Type conversion with `int()`, `float()`, `str()`\n",
    "- Boolean expressions (compute and print `True/False`) **without branching**\n",
    "\n",
    "**Excluded topics**\n",
    "- Conditionals (`if`, `elif`, `else`), ternary expressions\n",
    "- Lists (and methods like `.split()` which returns a list)\n",
    "- Loops, dictionaries, files, functions, modules, classes\n",
    "\n",
    "Each exercise includes a short description and a starter cell. Replace the `# Your code here` section with your work.\n"
   ]
  },
  {
   "cell_type": "markdown",
   "id": "187fead2",
   "metadata": {
    "id": "187fead2"
   },
   "source": [
    "## Exercise 1: Book Identity Card"
   ]
  },
  {
   "cell_type": "code",
   "execution_count": null,
   "id": "50c47c9e",
   "metadata": {},
   "outputs": [],
   "source": []
  },
  {
   "cell_type": "markdown",
   "id": "b25625ac",
   "metadata": {
    "id": "b25625ac"
   },
   "source": [
    "Create variables `title` (str), `author` (str), `year_published` (int), and `isbn` (str).  \n",
    "Print: `\"The Hobbit (1937) by J.R.R. Tolkien — ISBN: 9780261103344\"` using an f-string."
   ]
  },
  {
   "cell_type": "code",
   "execution_count": null,
   "id": "f126cbad",
   "metadata": {
    "id": "f126cbad"
   },
   "outputs": [],
   "source": [
    "# Your code here\n",
    "title = \"The Hobbit\"\n",
    "author = \"J.R.R. Tolkien\"\n",
    "year_published = 1937\n",
    "isbn = \"9780261103344\"\n",
    "print(f\"{title} + ({year_published}) by {author} - {isbn}\")"
   ]
  },
  {
   "cell_type": "markdown",
   "id": "a0733490",
   "metadata": {
    "id": "a0733490"
   },
   "source": [
    "## Exercise 2: New Copies on Order"
   ]
  },
  {
   "cell_type": "markdown",
   "id": "6df49a1d",
   "metadata": {
    "id": "6df49a1d"
   },
   "source": [
    "Given integers `current_copies` and `incoming_copies`, compute `total_copies` and print a message like `\"Total copies after delivery: 27\"`."
   ]
  },
  {
   "cell_type": "code",
   "execution_count": null,
   "id": "69884352",
   "metadata": {
    "id": "69884352"
   },
   "outputs": [],
   "source": [
    "# Your code here\n",
    "current_copies = 13\n",
    "incoming_copies = 14\n",
    "total_copies = current_copies + incoming_copies\n",
    "print(\"Total copies after delivery: \" + total_copies)"
   ]
  },
  {
   "cell_type": "markdown",
   "id": "7bae0bc7",
   "metadata": {
    "id": "7bae0bc7"
   },
   "source": [
    "## Exercise 3: Availability Flag (No Branching)"
   ]
  },
  {
   "cell_type": "markdown",
   "id": "56a12c8e",
   "metadata": {
    "id": "56a12c8e"
   },
   "source": [
    "Create `is_available` that is `True` when `current_copies > 0`. Print the boolean value."
   ]
  },
  {
   "cell_type": "code",
   "execution_count": null,
   "id": "e3d095dc",
   "metadata": {
    "id": "e3d095dc"
   },
   "outputs": [],
   "source": [
    "# Your code here\n",
    "current_copies = 5\n",
    "is_available = False\n",
    "if current_copies > 0:\n",
    "    is_available = True\n",
    "    print(is_available)"
   ]
  },
  {
   "cell_type": "markdown",
   "id": "1b201215",
   "metadata": {
    "id": "1b201215"
   },
   "source": [
    "## Exercise 4: Formatting a Call Number"
   ]
  },
  {
   "cell_type": "markdown",
   "id": "200dd704",
   "metadata": {
    "id": "200dd704"
   },
   "source": [
    "Given `prefix = \"QA\"`, `section = \"76\"`, `cutter = \"P98\"`, combine into `\"QA.76.P98\"` and print the result."
   ]
  },
  {
   "cell_type": "code",
   "execution_count": null,
   "id": "95e0afa1",
   "metadata": {
    "executionInfo": {
     "elapsed": 38,
     "status": "ok",
     "timestamp": 1757261665479,
     "user": {
      "displayName": "Christopher Scott Dempwolf",
      "userId": "06931803024438319452"
     },
     "user_tz": 240
    },
    "id": "95e0afa1"
   },
   "outputs": [],
   "source": [
    "# Your code here\n",
    "prefix = \"QA\"\n",
    "section = \"76\"\n",
    "cutter = \"P98\"\n",
    "combine = prefix + section + cutter \n",
    "print(combine)\n"
   ]
  },
  {
   "cell_type": "markdown",
   "id": "b029eff8",
   "metadata": {
    "id": "b029eff8"
   },
   "source": [
    "## Exercise 5: Trim a Title"
   ]
  },
  {
   "cell_type": "markdown",
   "id": "08a3762a",
   "metadata": {
    "id": "08a3762a"
   },
   "source": [
    "Ask for a book title. Use `.strip()` to remove leading/trailing spaces and print the cleaned title in quotes."
   ]
  },
  {
   "cell_type": "code",
   "execution_count": null,
   "id": "6f929817",
   "metadata": {
    "id": "6f929817"
   },
   "outputs": [],
   "source": [
    "# Your code here\n",
    "book_title = input(\"Please enter a book title: \")\n",
    "clean_title = book_title.strip()\n",
    "print(clean_title)"
   ]
  },
  {
   "cell_type": "markdown",
   "id": "18d175e7",
   "metadata": {
    "id": "18d175e7"
   },
   "source": [
    "## Exercise 6: Late Fee (Arithmetic Only)"
   ]
  },
  {
   "cell_type": "markdown",
   "id": "e0e17128",
   "metadata": {
    "id": "e0e17128"
   },
   "source": [
    "Ask for days late (integer). Compute the fee at `$0.25` per day, **but never negative**. Use arithmetic (e.g., `max_days = (days + abs(days)) // 2`) or `max()` to ensure non‑negative days. Print `\"Late fee: $X.XX\"`."
   ]
  },
  {
   "cell_type": "code",
   "execution_count": null,
   "id": "e8a70269",
   "metadata": {
    "id": "e8a70269"
   },
   "outputs": [],
   "source": [
    "# Your code here\n",
    "days_late = input(\"Days Late: \")\n",
    "days_lateint = int(days_late)\n",
    "max_days = (days_lateint + abs(days_lateint)) // 2\n",
    "fee = max_days * 0.25\n",
    "print(\"Late fee: \" + fee)"
   ]
  },
  {
   "cell_type": "markdown",
   "id": "4fc21786",
   "metadata": {
    "id": "4fc21786"
   },
   "source": [
    "## Exercise 7: Title Length Counter"
   ]
  },
  {
   "cell_type": "markdown",
   "id": "25c2ffee",
   "metadata": {
    "id": "25c2ffee"
   },
   "source": [
    "Given a `title` string, compute the number of characters and print `\"Title length: N\"`."
   ]
  },
  {
   "cell_type": "code",
   "execution_count": null,
   "id": "9e4a68b7",
   "metadata": {
    "id": "9e4a68b7"
   },
   "outputs": [],
   "source": [
    "# Your code here\n",
    "title = \"EIJFFBFDBVDHB\"\n",
    "count = 0\n",
    "def count_letters(title):\n",
    "   count = 0\n",
    "   for char in title:\n",
    "      if char.isalpha():\n",
    "            count += 1\n",
    "      return count\n",
    "print(\"Title length: \" + count)"
   ]
  },
  {
   "cell_type": "markdown",
   "id": "5a1cdcc8",
   "metadata": {
    "id": "5a1cdcc8"
   },
   "source": [
    "## Exercise 8: Case-Insensitive Match (Boolean Only)"
   ]
  },
  {
   "cell_type": "markdown",
   "id": "034ccb76",
   "metadata": {
    "id": "034ccb76"
   },
   "source": [
    "Let `query = \"dune\"` and `title = \"Dune\"`. Compute a boolean `matches` that is `True` when they match ignoring case. Print `matches`."
   ]
  },
  {
   "cell_type": "code",
   "execution_count": null,
   "id": "854f8532",
   "metadata": {
    "id": "854f8532"
   },
   "outputs": [],
   "source": [
    "# Your code here\n",
    "query = \"dune\"\n",
    "title = \"Dune\"\n",
    "matches = False\n",
    "if query.casefold() == title.casefold():\n",
    "    matches = True\n",
    "print(matches)"
   ]
  },
  {
   "cell_type": "markdown",
   "id": "b4e14459",
   "metadata": {
    "id": "b4e14459"
   },
   "source": [
    "## Exercise 9: Year Text to Int"
   ]
  },
  {
   "cell_type": "markdown",
   "id": "5a746f70",
   "metadata": {
    "id": "5a746f70"
   },
   "source": [
    "Start with `year_text = \"2001\"`. Convert to int, add 1 to get the next reprint year, then print both values in one sentence."
   ]
  },
  {
   "cell_type": "code",
   "execution_count": null,
   "id": "e6ec1ced",
   "metadata": {
    "id": "e6ec1ced"
   },
   "outputs": [],
   "source": [
    "# Your code here\n",
    "year_text = \"2001\"\n",
    "year = int(year_text)\n",
    "next_year = year + 1\n",
    "print(year,next_year)\n"
   ]
  },
  {
   "cell_type": "markdown",
   "id": "711448b9",
   "metadata": {
    "id": "711448b9"
   },
   "source": [
    "## Exercise 10: Shelf Label Alignment"
   ]
  },
  {
   "cell_type": "markdown",
   "id": "07ff4594",
   "metadata": {
    "id": "07ff4594"
   },
   "source": [
    "Given `title` and `author`, print a fixed‑width label so titles align. Example: `Title: {title:30}  Author: {author:20}`."
   ]
  },
  {
   "cell_type": "code",
   "execution_count": null,
   "id": "bb477dae",
   "metadata": {
    "id": "bb477dae"
   },
   "outputs": [],
   "source": [
    "# Your code here\n",
    "title = \"Diary of a Wimpy Kid\"\n",
    "author = \"Jeff Kinney\"\n",
    "print(\"Title: {title:30}  Author: {author:20}\")"
   ]
  },
  {
   "cell_type": "markdown",
   "id": "98b11882",
   "metadata": {
    "id": "98b11882"
   },
   "source": [
    "## Exercise 11: Basic Price Math"
   ]
  },
  {
   "cell_type": "markdown",
   "id": "2e038133",
   "metadata": {
    "id": "2e038133"
   },
   "source": [
    "A book costs `$12.50`. A student discount of `$2.00` applies. Compute and print the final price with two decimals."
   ]
  },
  {
   "cell_type": "code",
   "execution_count": null,
   "id": "55ad2d9c",
   "metadata": {
    "id": "55ad2d9c"
   },
   "outputs": [],
   "source": [
    "# Your code here\n",
    "book = 12.50\n",
    "discount = 2.00\n",
    "price = book - discount\n",
    "print(f\"{price:.2f}\")"
   ]
  },
  {
   "cell_type": "markdown",
   "id": "f976700b",
   "metadata": {
    "id": "f976700b"
   },
   "source": [
    "## Exercise 12: ISBN Normalizer"
   ]
  },
  {
   "cell_type": "markdown",
   "id": "0e1112c1",
   "metadata": {
    "id": "0e1112c1"
   },
   "source": [
    "Given `isbn_raw = \" 978-0-261-10334-4 \"`, strip whitespace and remove dashes to get `\"9780261103344\"`."
   ]
  },
  {
   "cell_type": "code",
   "execution_count": null,
   "id": "6b8bc837",
   "metadata": {
    "id": "6b8bc837"
   },
   "outputs": [],
   "source": [
    "# Your code here\n",
    "isbn_raw = \" 978-0-261-10334-4 \"\n",
    "isbn = isbn_raw.strip()"
   ]
  },
  {
   "cell_type": "markdown",
   "id": "c3919be0",
   "metadata": {
    "id": "c3919be0"
   },
   "source": [
    "## Exercise 13: Branch Code Normalization"
   ]
  },
  {
   "cell_type": "markdown",
   "id": "e4a18d87",
   "metadata": {
    "id": "e4a18d87"
   },
   "source": [
    "Given `home_branch = \"  umd  \"`, normalize by stripping spaces and uppercasing. Print the normalized code."
   ]
  },
  {
   "cell_type": "code",
   "execution_count": null,
   "id": "38e13766",
   "metadata": {
    "id": "38e13766"
   },
   "outputs": [],
   "source": [
    "# Your code here\n",
    "home_branch = \" umd\"\n",
    "revised_string = home_branch.strip()\n",
    "print(revised_string.upper())"
   ]
  },
  {
   "cell_type": "markdown",
   "id": "1a32a62a",
   "metadata": {
    "id": "1a32a62a"
   },
   "source": [
    "## Exercise 14: Pages-per-Day (Compute Only)"
   ]
  },
  {
   "cell_type": "markdown",
   "id": "409a1c78",
   "metadata": {
    "id": "409a1c78"
   },
   "source": [
    "Ask for `total_pages` and `days_until_due`. Compute `pages_per_day = total_pages / max(days_until_due, 1)` to avoid division by zero. Print with 1 decimal place."
   ]
  },
  {
   "cell_type": "code",
   "execution_count": null,
   "id": "eaf15bd8",
   "metadata": {
    "id": "eaf15bd8"
   },
   "outputs": [],
   "source": [
    "# Your code here\n",
    "total_pages = input(\"Total Pages: \")\n",
    "pages = int(total_pages)\n",
    "days_until_due = input(\"Days until due: \")\n",
    "days = int(days_until_due)\n",
    "pages_per_day = pages/ max(days,1)\n",
    "print(f\"{pages_per_day}\")"
   ]
  },
  {
   "cell_type": "markdown",
   "id": "cd86b9fd",
   "metadata": {
    "id": "cd86b9fd"
   },
   "source": [
    "## Exercise 15: Call Number Parsing (No Lists)"
   ]
  },
  {
   "cell_type": "markdown",
   "id": "1fc37465",
   "metadata": {
    "id": "1fc37465"
   },
   "source": [
    "Given `call_no = \"QA.76.P98\"`, extract `prefix`, `section`, and `cutter` using `.find()`/`.rfind()` and string slicing only (no `.split()`). Print them in one line."
   ]
  },
  {
   "cell_type": "code",
   "execution_count": null,
   "id": "fe05f0c4",
   "metadata": {
    "id": "fe05f0c4"
   },
   "outputs": [],
   "source": [
    "# Your code here\n",
    "call_no = \"QA.76.P98\"\n",
    "prefix = call_no.find(\"QA\")\n",
    "section = call_no.find(\"76\")\n",
    "cutter = call_no.find(\"P98\")\n",
    "print(prefix+section+cutter)"
   ]
  },
  {
   "cell_type": "markdown",
   "id": "027c50f7",
   "metadata": {
    "id": "027c50f7"
   },
   "source": [
    "## Exercise 16: Basic Type Introspection"
   ]
  },
  {
   "cell_type": "markdown",
   "id": "da5ad370",
   "metadata": {
    "id": "da5ad370"
   },
   "source": [
    "Create variables `n = 10`, `price = 9.99`, `title = \"Dune\"`, `available = True`. Print each value and its type using `type()`."
   ]
  },
  {
   "cell_type": "code",
   "execution_count": null,
   "id": "eb0a0c2d",
   "metadata": {
    "id": "eb0a0c2d"
   },
   "outputs": [],
   "source": [
    "# Your code here\n",
    "n = 10\n",
    "price = 9.99\n",
    "title = \"Dune\"\n",
    "available = True\n",
    "print(type(n),n)\n",
    "print(type(price),price)\n",
    "print(type(title),title)\n",
    "print(type(available),available)"
   ]
  },
  {
   "cell_type": "markdown",
   "id": "5596706f",
   "metadata": {
    "id": "5596706f"
   },
   "source": [
    "## Exercise 17: Concatenate Author Name"
   ]
  },
  {
   "cell_type": "markdown",
   "id": "7867d77d",
   "metadata": {
    "id": "7867d77d"
   },
   "source": [
    "Given `first = \"Octavia\"` and `last = \"Butler\"`, create `author_full = \"Octavia Butler\"` and print it."
   ]
  },
  {
   "cell_type": "code",
   "execution_count": null,
   "id": "71101e4a",
   "metadata": {
    "id": "71101e4a"
   },
   "outputs": [],
   "source": [
    "# Your code here\n",
    "first = \"Octavia\"\n",
    "last = \"Butler\"\n",
    "author_full = first + \" \" + last\n",
    "print(author_full)"
   ]
  },
  {
   "cell_type": "markdown",
   "id": "06f9f678",
   "metadata": {
    "id": "06f9f678"
   },
   "source": [
    "## Exercise 18: Edition Equality (Boolean Only)"
   ]
  },
  {
   "cell_type": "markdown",
   "id": "a6cf3cd4",
   "metadata": {
    "id": "a6cf3cd4"
   },
   "source": [
    "Let `edition_text = \"2\"` and `edition_num = 2`. Compute `same = int(edition_text) == edition_num` and print `same`."
   ]
  },
  {
   "cell_type": "code",
   "execution_count": null,
   "id": "1946e8bf",
   "metadata": {
    "id": "1946e8bf"
   },
   "outputs": [],
   "source": [
    "# Your code here\n",
    "edition_text = \"2\"\n",
    "edition_num = 2\n",
    "same = int(edition_text) == edition_num\n",
    "print(same)"
   ]
  },
  {
   "cell_type": "markdown",
   "id": "2b7863a2",
   "metadata": {
    "id": "2b7863a2"
   },
   "source": [
    "## Exercise 19: Copy Count Update (Arithmetic)"
   ]
  },
  {
   "cell_type": "markdown",
   "id": "c0d6de9f",
   "metadata": {
    "id": "c0d6de9f"
   },
   "source": [
    "Start with `copies = 3`. Add a returned copy (`+1`) and subtract a lost copy (`-1`). Print the final count (you may change the increments)."
   ]
  },
  {
   "cell_type": "code",
   "execution_count": null,
   "id": "1178c971",
   "metadata": {
    "id": "1178c971"
   },
   "outputs": [],
   "source": [
    "# Your code here\n",
    "copies = 3\n",
    "copies += 1\n",
    "copies -=1\n",
    "print(copies)"
   ]
  },
  {
   "cell_type": "markdown",
   "id": "7399dab7",
   "metadata": {
    "id": "7399dab7"
   },
   "source": [
    "## Exercise 20: Modern Publication (Boolean Only)"
   ]
  },
  {
   "cell_type": "markdown",
   "id": "6d07fd5c",
   "metadata": {
    "id": "6d07fd5c"
   },
   "source": [
    "Ask for a publication year and compute a boolean `modern = (year >= 2000)`. Print `modern`."
   ]
  },
  {
   "cell_type": "code",
   "execution_count": null,
   "id": "775f0de1",
   "metadata": {
    "id": "775f0de1"
   },
   "outputs": [],
   "source": [
    "# Your code here\n",
    "publication = input(\"Type in a publication year: \")\n",
    "year = int(publication)\n",
    "modern = False\n",
    "if(year >=2000):\n",
    "    modern = True\n",
    "print(modern)"
   ]
  },
  {
   "cell_type": "markdown",
   "id": "d5b0497b",
   "metadata": {
    "id": "d5b0497b"
   },
   "source": [
    "## Exercise 21: Hold Ready (Boolean Only)"
   ]
  },
  {
   "cell_type": "markdown",
   "id": "d0ca2343",
   "metadata": {
    "id": "d0ca2343"
   },
   "source": [
    "Given `hold_ready = True`, print the boolean and a simple message on a single line without branching, e.g., `True — status recorded`."
   ]
  },
  {
   "cell_type": "code",
   "execution_count": null,
   "id": "64defa34",
   "metadata": {
    "id": "64defa34"
   },
   "outputs": [],
   "source": [
    "# Your code here\n",
    "hold_ready = True\n",
    "print(f\"{hold_ready} — status recorded\")"
   ]
  },
  {
   "cell_type": "markdown",
   "id": "cbe04c30",
   "metadata": {
    "id": "cbe04c30"
   },
   "source": [
    "## Exercise 22: Replace Substring in Title"
   ]
  },
  {
   "cell_type": "markdown",
   "id": "a75ee147",
   "metadata": {
    "id": "a75ee147"
   },
   "source": [
    "Let `title = \"The Color of Magic\"`. Replace `\"Color\"` with `\"Colour\"` and print the result."
   ]
  },
  {
   "cell_type": "code",
   "execution_count": null,
   "id": "a172a936",
   "metadata": {
    "id": "a172a936"
   },
   "outputs": [],
   "source": [
    "# Your code here\n",
    "title = \"The Color of Magic\"\n",
    "new_title = title.replace(\"Color\",\"Colour\")\n",
    "print(new_title)"
   ]
  },
  {
   "cell_type": "markdown",
   "id": "7fda9c32",
   "metadata": {
    "id": "7fda9c32"
   },
   "source": [
    "## Exercise 23: Keyword Present (Boolean Only)"
   ]
  },
  {
   "cell_type": "markdown",
   "id": "6e13428c",
   "metadata": {
    "id": "6e13428c"
   },
   "source": [
    "Given `title = \"The Left Hand of Darkness\"` and `keyword = \"Hand\"`, compute `present = title.find(keyword) != -1` and print `present`."
   ]
  },
  {
   "cell_type": "code",
   "execution_count": null,
   "id": "c88c5e20",
   "metadata": {
    "id": "c88c5e20"
   },
   "outputs": [],
   "source": [
    "# Your code here\n",
    "title = \"The Left Hand of Darkness\"\n",
    "keyword = \"Hand\"\n",
    "present = title.find(keyword) != -1\n",
    "print(present)\n",
    "\n"
   ]
  },
  {
   "cell_type": "markdown",
   "id": "1b602454",
   "metadata": {
    "id": "1b602454"
   },
   "source": [
    "## Exercise 24: Extract Cutter by Position (No Lists)"
   ]
  },
  {
   "cell_type": "markdown",
   "id": "15f23d51",
   "metadata": {
    "id": "15f23d51"
   },
   "source": [
    "With `call_no = \"QA.76.P98\"`, find the last `'.'` index and slice the cutter part. Print only the cutter."
   ]
  },
  {
   "cell_type": "code",
   "execution_count": null,
   "id": "742321e0",
   "metadata": {
    "id": "742321e0"
   },
   "outputs": [],
   "source": [
    "# Your code here\n",
    "call_no = \"QA.76.P98\"\n",
    "last_dot_index = call_no.rfind(\".\")  \n",
    "cutter = call_no[last_dot_index+1:]"
   ]
  },
  {
   "cell_type": "markdown",
   "id": "b90c8704",
   "metadata": {
    "id": "b90c8704"
   },
   "source": [
    "## Exercise 25: Rating Validity (Boolean Only)"
   ]
  },
  {
   "cell_type": "markdown",
   "id": "71279be5",
   "metadata": {
    "id": "71279be5"
   },
   "source": [
    "Ask for a rating `0–5`. Compute `valid = (rating >= 0) and (rating <= 5)` and print `valid`."
   ]
  },
  {
   "cell_type": "code",
   "execution_count": null,
   "id": "43029bbd",
   "metadata": {
    "id": "43029bbd"
   },
   "outputs": [],
   "source": [
    "# Your code here\n",
    "rating = int(input(\"Give a rating 0-5: \"))\n",
    "valid = False\n",
    "if rating>=0 & rating <=5:\n",
    "    valid = True\n",
    "print(valid)"
   ]
  },
  {
   "cell_type": "markdown",
   "id": "e36cba20",
   "metadata": {
    "id": "e36cba20"
   },
   "source": [
    "## Exercise 26: Tiny Catalog Line"
   ]
  },
  {
   "cell_type": "markdown",
   "id": "eccd9516",
   "metadata": {
    "id": "eccd9516"
   },
   "source": [
    "Create `title`, `author`, and `year`. Print `\"Title — Author (Year)\"` exactly in that format using an f-string."
   ]
  },
  {
   "cell_type": "code",
   "execution_count": null,
   "id": "f7282836",
   "metadata": {
    "id": "f7282836"
   },
   "outputs": [],
   "source": [
    "# Your code here\n",
    "title = \"Title\"\n",
    "author = \"Author\"\n",
    "year = \"Year\"\n",
    "print(f\"title - author {(year)}\")"
   ]
  },
  {
   "cell_type": "markdown",
   "id": "1c8bb621",
   "metadata": {
    "id": "1c8bb621"
   },
   "source": [
    "## Exercise 27: Average Rating (Rounded)"
   ]
  },
  {
   "cell_type": "markdown",
   "id": "4f2a7035",
   "metadata": {
    "id": "4f2a7035"
   },
   "source": [
    "Given `avg_rating = 4.2667`, print it rounded to two decimals using an f-string format specifier."
   ]
  },
  {
   "cell_type": "code",
   "execution_count": null,
   "id": "a0a55558",
   "metadata": {
    "id": "a0a55558"
   },
   "outputs": [],
   "source": [
    "# Your code here\n",
    "avg_rating = 4.2667\n",
    "print(f\"{avg_rating:.2f}\")"
   ]
  },
  {
   "cell_type": "markdown",
   "id": "58d8cfb2",
   "metadata": {
    "id": "58d8cfb2"
   },
   "source": [
    "## Exercise 28: Query Normalization"
   ]
  },
  {
   "cell_type": "markdown",
   "id": "ea98110b",
   "metadata": {
    "id": "ea98110b"
   },
   "source": [
    "Ask for a search term via `input()` and normalize it by stripping spaces and lowercasing. Print the normalized query."
   ]
  },
  {
   "cell_type": "code",
   "execution_count": null,
   "id": "b7bc3968",
   "metadata": {
    "id": "b7bc3968"
   },
   "outputs": [],
   "source": [
    "# Your code here\n",
    "search_term = input(\"Put in a search term: \")\n",
    "normalize_term = search_term.strip()\n",
    "print(normalize_term.lower())"
   ]
  },
  {
   "cell_type": "markdown",
   "id": "5934143d",
   "metadata": {
    "id": "5934143d"
   },
   "source": [
    "## Exercise 29: Borrower Card Line"
   ]
  },
  {
   "cell_type": "markdown",
   "id": "be8b473c",
   "metadata": {
    "id": "be8b473c"
   },
   "source": [
    "Given `name = \"Avery\"` and `id_num = 1024`, print: `\"Borrower: Avery (ID: 1024)\"`."
   ]
  },
  {
   "cell_type": "code",
   "execution_count": null,
   "id": "5bbecd9e",
   "metadata": {
    "id": "5bbecd9e"
   },
   "outputs": [],
   "source": [
    "# Your code here\n",
    "name = \"Avery\"\n",
    "id_num = 1024\n",
    "print(\"Borrower: {name} (ID:id_num)\")"
   ]
  },
  {
   "cell_type": "markdown",
   "id": "d73ef275",
   "metadata": {
    "id": "d73ef275"
   },
   "source": [
    "## Exercise 30: Stock State (No Branching)"
   ]
  },
  {
   "cell_type": "markdown",
   "id": "67dcf65a",
   "metadata": {
    "id": "67dcf65a"
   },
   "source": [
    "Let `copies = 1`. Compute booleans: `none = (copies == 0)`, `single = (copies == 1)`, `many = (copies > 1)`. Print all three in one line."
   ]
  },
  {
   "cell_type": "code",
   "execution_count": null,
   "id": "3a6aaa15",
   "metadata": {
    "id": "3a6aaa15"
   },
   "outputs": [],
   "source": [
    "# Your code here\n",
    "copies = 1\n",
    "none = False\n",
    "single = False\n",
    "many = False\n",
    "if copies == 0:\n",
    "    none = True\n",
    "if copies == 1:\n",
    "    single = True\n",
    "if copies > 1:\n",
    "    many = True\n",
    "print(none,single,many)"
   ]
  }
 ],
 "metadata": {
  "colab": {
   "provenance": [
    {
     "file_id": "1-evhloORzYoiHqDLRZoc5DG9TSZ86GwC",
     "timestamp": 1757262040204
    }
   ]
  },
  "kernelspec": {
   "display_name": "Python 3",
   "name": "python3"
  },
  "language_info": {
   "name": "python"
  }
 },
 "nbformat": 4,
 "nbformat_minor": 5
}
